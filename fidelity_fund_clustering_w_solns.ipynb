{
 "cells": [
  {
   "cell_type": "markdown",
   "metadata": {},
   "source": [
    "### University of Virginia\n",
    "### DS 5559: Big Data Analytics\n",
    "### K-Means Cluster Analysis of Fidelity Fund Returns \n",
    "### Last updated: June 16, 2020"
   ]
  },
  {
   "cell_type": "markdown",
   "metadata": {},
   "source": [
    "## Instructions\n",
    "\n",
    "In this assignment, you will conduct a k-means cluster analysis on a set of Fidelity mutual funds.  The data consists of the daily returns (percentage change in price), with tickers as the identifiers.  The outline below will walk you through the required steps.  \n",
    "\n",
    "This assignment is worth a total of 10 POINTS."
   ]
  },
  {
   "cell_type": "markdown",
   "metadata": {},
   "source": [
    "## Data Preprocessing"
   ]
  },
  {
   "cell_type": "code",
   "execution_count": 2,
   "metadata": {},
   "outputs": [],
   "source": [
    "import pandas as pd\n",
    "import numpy as np\n",
    "from math import sqrt"
   ]
  },
  {
   "cell_type": "code",
   "execution_count": 3,
   "metadata": {},
   "outputs": [],
   "source": [
    "# read in the dataset\n",
    "df0 = pd.read_csv('fido_returns.csv')"
   ]
  },
  {
   "cell_type": "code",
   "execution_count": 4,
   "metadata": {},
   "outputs": [
    {
     "data": {
      "text/html": [
       "<div>\n",
       "<style scoped>\n",
       "    .dataframe tbody tr th:only-of-type {\n",
       "        vertical-align: middle;\n",
       "    }\n",
       "\n",
       "    .dataframe tbody tr th {\n",
       "        vertical-align: top;\n",
       "    }\n",
       "\n",
       "    .dataframe thead th {\n",
       "        text-align: right;\n",
       "    }\n",
       "</style>\n",
       "<table border=\"1\" class=\"dataframe\">\n",
       "  <thead>\n",
       "    <tr style=\"text-align: right;\">\n",
       "      <th></th>\n",
       "      <th>Index</th>\n",
       "      <th>FSCEX</th>\n",
       "      <th>FSCBX</th>\n",
       "      <th>FSCIX</th>\n",
       "      <th>FDGIX</th>\n",
       "      <th>FADBX</th>\n",
       "      <th>FADAX</th>\n",
       "      <th>FDGTX</th>\n",
       "      <th>FSFCX</th>\n",
       "      <th>FAMUX</th>\n",
       "      <th>...</th>\n",
       "      <th>FVDKX</th>\n",
       "      <th>FDVLX</th>\n",
       "      <th>FVLKX</th>\n",
       "      <th>FSLSX</th>\n",
       "      <th>FASBX</th>\n",
       "      <th>FVSKX</th>\n",
       "      <th>FWWFX</th>\n",
       "      <th>FBVFX</th>\n",
       "      <th>FCFFX</th>\n",
       "      <th>FTFFX</th>\n",
       "    </tr>\n",
       "  </thead>\n",
       "  <tbody>\n",
       "    <tr>\n",
       "      <th>0</th>\n",
       "      <td>2007-01-03</td>\n",
       "      <td>0.000000</td>\n",
       "      <td>0.000000</td>\n",
       "      <td>0.000000</td>\n",
       "      <td>0.000000</td>\n",
       "      <td>0.000000</td>\n",
       "      <td>0.000000</td>\n",
       "      <td>0.000000</td>\n",
       "      <td>0.000000</td>\n",
       "      <td>0.000</td>\n",
       "      <td>...</td>\n",
       "      <td>0.0</td>\n",
       "      <td>0.000000</td>\n",
       "      <td>0.0</td>\n",
       "      <td>0.000000</td>\n",
       "      <td>0.000000</td>\n",
       "      <td>0.0</td>\n",
       "      <td>0.000000</td>\n",
       "      <td>0.000000</td>\n",
       "      <td>0.000000</td>\n",
       "      <td>0.000000</td>\n",
       "    </tr>\n",
       "    <tr>\n",
       "      <th>1</th>\n",
       "      <td>2007-01-04</td>\n",
       "      <td>0.000000</td>\n",
       "      <td>0.000000</td>\n",
       "      <td>0.000000</td>\n",
       "      <td>0.000826</td>\n",
       "      <td>0.000828</td>\n",
       "      <td>0.000840</td>\n",
       "      <td>0.001663</td>\n",
       "      <td>0.001165</td>\n",
       "      <td>0.001</td>\n",
       "      <td>...</td>\n",
       "      <td>0.0</td>\n",
       "      <td>0.000718</td>\n",
       "      <td>0.0</td>\n",
       "      <td>0.000377</td>\n",
       "      <td>0.000857</td>\n",
       "      <td>0.0</td>\n",
       "      <td>-0.004638</td>\n",
       "      <td>0.000726</td>\n",
       "      <td>0.000000</td>\n",
       "      <td>0.000000</td>\n",
       "    </tr>\n",
       "    <tr>\n",
       "      <th>2</th>\n",
       "      <td>2007-01-05</td>\n",
       "      <td>-0.010407</td>\n",
       "      <td>-0.010517</td>\n",
       "      <td>-0.010764</td>\n",
       "      <td>-0.004967</td>\n",
       "      <td>-0.004979</td>\n",
       "      <td>-0.005051</td>\n",
       "      <td>-0.005831</td>\n",
       "      <td>-0.001165</td>\n",
       "      <td>0.000</td>\n",
       "      <td>...</td>\n",
       "      <td>0.0</td>\n",
       "      <td>-0.008943</td>\n",
       "      <td>0.0</td>\n",
       "      <td>-0.011749</td>\n",
       "      <td>-0.012069</td>\n",
       "      <td>0.0</td>\n",
       "      <td>-0.009927</td>\n",
       "      <td>-0.008746</td>\n",
       "      <td>-0.006826</td>\n",
       "      <td>-0.006957</td>\n",
       "    </tr>\n",
       "  </tbody>\n",
       "</table>\n",
       "<p>3 rows × 928 columns</p>\n",
       "</div>"
      ],
      "text/plain": [
       "        Index     FSCEX     FSCBX     FSCIX     FDGIX     FADBX     FADAX  \\\n",
       "0  2007-01-03  0.000000  0.000000  0.000000  0.000000  0.000000  0.000000   \n",
       "1  2007-01-04  0.000000  0.000000  0.000000  0.000826  0.000828  0.000840   \n",
       "2  2007-01-05 -0.010407 -0.010517 -0.010764 -0.004967 -0.004979 -0.005051   \n",
       "\n",
       "      FDGTX     FSFCX  FAMUX  ...  FVDKX     FDVLX  FVLKX     FSLSX     FASBX  \\\n",
       "0  0.000000  0.000000  0.000  ...    0.0  0.000000    0.0  0.000000  0.000000   \n",
       "1  0.001663  0.001165  0.001  ...    0.0  0.000718    0.0  0.000377  0.000857   \n",
       "2 -0.005831 -0.001165  0.000  ...    0.0 -0.008943    0.0 -0.011749 -0.012069   \n",
       "\n",
       "   FVSKX     FWWFX     FBVFX     FCFFX     FTFFX  \n",
       "0    0.0  0.000000  0.000000  0.000000  0.000000  \n",
       "1    0.0 -0.004638  0.000726  0.000000  0.000000  \n",
       "2    0.0 -0.009927 -0.008746 -0.006826 -0.006957  \n",
       "\n",
       "[3 rows x 928 columns]"
      ]
     },
     "execution_count": 4,
     "metadata": {},
     "output_type": "execute_result"
    }
   ],
   "source": [
    "df0.head(3)"
   ]
  },
  {
   "cell_type": "code",
   "execution_count": 5,
   "metadata": {},
   "outputs": [
    {
     "data": {
      "text/plain": [
       "['FSCEX', 'FSCBX', 'FSCIX', 'FDGIX', 'FADBX']"
      ]
     },
     "execution_count": 5,
     "metadata": {},
     "output_type": "execute_result"
    }
   ],
   "source": [
    "# store the tickers in a list called tickers\n",
    "tickers = list(df0.columns[1:])\n",
    "tickers[:5]"
   ]
  },
  {
   "cell_type": "code",
   "execution_count": 6,
   "metadata": {},
   "outputs": [
    {
     "data": {
      "text/plain": [
       "array(['2007-01-03', '2007-01-04', '2007-01-05', '2007-01-08',\n",
       "       '2007-01-09'], dtype=object)"
      ]
     },
     "execution_count": 6,
     "metadata": {},
     "output_type": "execute_result"
    }
   ],
   "source": [
    "# store the dates\n",
    "dates = df0.Index.values\n",
    "dates[:5]"
   ]
  },
  {
   "cell_type": "code",
   "execution_count": 7,
   "metadata": {},
   "outputs": [],
   "source": [
    "# drop the index column\n",
    "del df0['Index']"
   ]
  },
  {
   "cell_type": "code",
   "execution_count": 9,
   "metadata": {},
   "outputs": [
    {
     "data": {
      "text/html": [
       "<div>\n",
       "<style scoped>\n",
       "    .dataframe tbody tr th:only-of-type {\n",
       "        vertical-align: middle;\n",
       "    }\n",
       "\n",
       "    .dataframe tbody tr th {\n",
       "        vertical-align: top;\n",
       "    }\n",
       "\n",
       "    .dataframe thead th {\n",
       "        text-align: right;\n",
       "    }\n",
       "</style>\n",
       "<table border=\"1\" class=\"dataframe\">\n",
       "  <thead>\n",
       "    <tr style=\"text-align: right;\">\n",
       "      <th></th>\n",
       "      <th>FSCEX</th>\n",
       "      <th>FSCBX</th>\n",
       "      <th>FSCIX</th>\n",
       "      <th>FDGIX</th>\n",
       "      <th>FADBX</th>\n",
       "      <th>FADAX</th>\n",
       "      <th>FDGTX</th>\n",
       "      <th>FSFCX</th>\n",
       "      <th>FAMUX</th>\n",
       "      <th>FNBCX</th>\n",
       "      <th>...</th>\n",
       "      <th>FVDKX</th>\n",
       "      <th>FDVLX</th>\n",
       "      <th>FVLKX</th>\n",
       "      <th>FSLSX</th>\n",
       "      <th>FASBX</th>\n",
       "      <th>FVSKX</th>\n",
       "      <th>FWWFX</th>\n",
       "      <th>FBVFX</th>\n",
       "      <th>FCFFX</th>\n",
       "      <th>FTFFX</th>\n",
       "    </tr>\n",
       "  </thead>\n",
       "  <tbody>\n",
       "    <tr>\n",
       "      <th>0</th>\n",
       "      <td>0.000000</td>\n",
       "      <td>0.000000</td>\n",
       "      <td>0.000000</td>\n",
       "      <td>0.000000</td>\n",
       "      <td>0.000000</td>\n",
       "      <td>0.000000</td>\n",
       "      <td>0.000000</td>\n",
       "      <td>0.000000</td>\n",
       "      <td>0.000</td>\n",
       "      <td>0.000000</td>\n",
       "      <td>...</td>\n",
       "      <td>0.0</td>\n",
       "      <td>0.000000</td>\n",
       "      <td>0.0</td>\n",
       "      <td>0.000000</td>\n",
       "      <td>0.000000</td>\n",
       "      <td>0.0</td>\n",
       "      <td>0.000000</td>\n",
       "      <td>0.000000</td>\n",
       "      <td>0.000000</td>\n",
       "      <td>0.000000</td>\n",
       "    </tr>\n",
       "    <tr>\n",
       "      <th>1</th>\n",
       "      <td>0.000000</td>\n",
       "      <td>0.000000</td>\n",
       "      <td>0.000000</td>\n",
       "      <td>0.000826</td>\n",
       "      <td>0.000828</td>\n",
       "      <td>0.000840</td>\n",
       "      <td>0.001663</td>\n",
       "      <td>0.001165</td>\n",
       "      <td>0.001</td>\n",
       "      <td>0.001101</td>\n",
       "      <td>...</td>\n",
       "      <td>0.0</td>\n",
       "      <td>0.000718</td>\n",
       "      <td>0.0</td>\n",
       "      <td>0.000377</td>\n",
       "      <td>0.000857</td>\n",
       "      <td>0.0</td>\n",
       "      <td>-0.004638</td>\n",
       "      <td>0.000726</td>\n",
       "      <td>0.000000</td>\n",
       "      <td>0.000000</td>\n",
       "    </tr>\n",
       "    <tr>\n",
       "      <th>2</th>\n",
       "      <td>-0.010407</td>\n",
       "      <td>-0.010517</td>\n",
       "      <td>-0.010764</td>\n",
       "      <td>-0.004967</td>\n",
       "      <td>-0.004979</td>\n",
       "      <td>-0.005051</td>\n",
       "      <td>-0.005831</td>\n",
       "      <td>-0.001165</td>\n",
       "      <td>0.000</td>\n",
       "      <td>-0.001101</td>\n",
       "      <td>...</td>\n",
       "      <td>0.0</td>\n",
       "      <td>-0.008943</td>\n",
       "      <td>0.0</td>\n",
       "      <td>-0.011749</td>\n",
       "      <td>-0.012069</td>\n",
       "      <td>0.0</td>\n",
       "      <td>-0.009927</td>\n",
       "      <td>-0.008746</td>\n",
       "      <td>-0.006826</td>\n",
       "      <td>-0.006957</td>\n",
       "    </tr>\n",
       "  </tbody>\n",
       "</table>\n",
       "<p>3 rows × 927 columns</p>\n",
       "</div>"
      ],
      "text/plain": [
       "      FSCEX     FSCBX     FSCIX     FDGIX     FADBX     FADAX     FDGTX  \\\n",
       "0  0.000000  0.000000  0.000000  0.000000  0.000000  0.000000  0.000000   \n",
       "1  0.000000  0.000000  0.000000  0.000826  0.000828  0.000840  0.001663   \n",
       "2 -0.010407 -0.010517 -0.010764 -0.004967 -0.004979 -0.005051 -0.005831   \n",
       "\n",
       "      FSFCX  FAMUX     FNBCX  ...  FVDKX     FDVLX  FVLKX     FSLSX     FASBX  \\\n",
       "0  0.000000  0.000  0.000000  ...    0.0  0.000000    0.0  0.000000  0.000000   \n",
       "1  0.001165  0.001  0.001101  ...    0.0  0.000718    0.0  0.000377  0.000857   \n",
       "2 -0.001165  0.000 -0.001101  ...    0.0 -0.008943    0.0 -0.011749 -0.012069   \n",
       "\n",
       "   FVSKX     FWWFX     FBVFX     FCFFX     FTFFX  \n",
       "0    0.0  0.000000  0.000000  0.000000  0.000000  \n",
       "1    0.0 -0.004638  0.000726  0.000000  0.000000  \n",
       "2    0.0 -0.009927 -0.008746 -0.006826 -0.006957  \n",
       "\n",
       "[3 rows x 927 columns]"
      ]
     },
     "execution_count": 9,
     "metadata": {},
     "output_type": "execute_result"
    }
   ],
   "source": [
    "df0.head(3)"
   ]
  },
  {
   "cell_type": "code",
   "execution_count": 11,
   "metadata": {},
   "outputs": [],
   "source": [
    "# store the dataframe values\n",
    "vals = df0.values"
   ]
  },
  {
   "cell_type": "code",
   "execution_count": 12,
   "metadata": {},
   "outputs": [],
   "source": [
    "# transpose the data, putting funds on rows and timepoints on columns\n",
    "vals_t = vals.transpose()"
   ]
  },
  {
   "cell_type": "code",
   "execution_count": 13,
   "metadata": {},
   "outputs": [
    {
     "data": {
      "text/plain": [
       "(927, 1731)"
      ]
     },
     "execution_count": 13,
     "metadata": {},
     "output_type": "execute_result"
    }
   ],
   "source": [
    "# VALUE: 1 POINT\n",
    "# print the shape of the transposed dataframe\n",
    "vals_t.shape"
   ]
  },
  {
   "cell_type": "code",
   "execution_count": 15,
   "metadata": {},
   "outputs": [],
   "source": [
    "# build the dataframe w transposed data, calling it dft\n",
    "dft = pd.DataFrame(data=vals_t, index=df0.columns, columns=dates)"
   ]
  },
  {
   "cell_type": "code",
   "execution_count": 16,
   "metadata": {},
   "outputs": [
    {
     "data": {
      "text/html": [
       "<div>\n",
       "<style scoped>\n",
       "    .dataframe tbody tr th:only-of-type {\n",
       "        vertical-align: middle;\n",
       "    }\n",
       "\n",
       "    .dataframe tbody tr th {\n",
       "        vertical-align: top;\n",
       "    }\n",
       "\n",
       "    .dataframe thead th {\n",
       "        text-align: right;\n",
       "    }\n",
       "</style>\n",
       "<table border=\"1\" class=\"dataframe\">\n",
       "  <thead>\n",
       "    <tr style=\"text-align: right;\">\n",
       "      <th></th>\n",
       "      <th>2007-01-03</th>\n",
       "      <th>2007-01-04</th>\n",
       "      <th>2007-01-05</th>\n",
       "      <th>2007-01-08</th>\n",
       "      <th>2007-01-09</th>\n",
       "      <th>2007-01-10</th>\n",
       "      <th>2007-01-11</th>\n",
       "      <th>2007-01-12</th>\n",
       "      <th>2007-01-16</th>\n",
       "      <th>2007-01-17</th>\n",
       "      <th>...</th>\n",
       "      <th>2013-10-28</th>\n",
       "      <th>2013-10-29</th>\n",
       "      <th>2013-10-30</th>\n",
       "      <th>2013-10-31</th>\n",
       "      <th>2013-11-01</th>\n",
       "      <th>2013-11-04</th>\n",
       "      <th>2013-11-05</th>\n",
       "      <th>2013-11-06</th>\n",
       "      <th>2013-11-07</th>\n",
       "      <th>2013-11-08</th>\n",
       "    </tr>\n",
       "  </thead>\n",
       "  <tbody>\n",
       "    <tr>\n",
       "      <th>FSCEX</th>\n",
       "      <td>0.0</td>\n",
       "      <td>0.0</td>\n",
       "      <td>-0.010407</td>\n",
       "      <td>0.003686</td>\n",
       "      <td>-0.001841</td>\n",
       "      <td>-0.000614</td>\n",
       "      <td>0.008568</td>\n",
       "      <td>0.004863</td>\n",
       "      <td>0.000000</td>\n",
       "      <td>-0.003645</td>\n",
       "      <td>...</td>\n",
       "      <td>-0.000386</td>\n",
       "      <td>0.003470</td>\n",
       "      <td>-0.006178</td>\n",
       "      <td>-0.001163</td>\n",
       "      <td>-0.003885</td>\n",
       "      <td>0.010070</td>\n",
       "      <td>-0.005797</td>\n",
       "      <td>-0.001940</td>\n",
       "      <td>-0.013685</td>\n",
       "      <td>0.013297</td>\n",
       "    </tr>\n",
       "    <tr>\n",
       "      <th>FSCBX</th>\n",
       "      <td>0.0</td>\n",
       "      <td>0.0</td>\n",
       "      <td>-0.010517</td>\n",
       "      <td>0.003724</td>\n",
       "      <td>-0.001240</td>\n",
       "      <td>-0.001241</td>\n",
       "      <td>0.008658</td>\n",
       "      <td>0.004914</td>\n",
       "      <td>-0.000613</td>\n",
       "      <td>-0.003070</td>\n",
       "      <td>...</td>\n",
       "      <td>-0.000391</td>\n",
       "      <td>0.003512</td>\n",
       "      <td>-0.006252</td>\n",
       "      <td>-0.001177</td>\n",
       "      <td>-0.003932</td>\n",
       "      <td>0.009802</td>\n",
       "      <td>-0.005870</td>\n",
       "      <td>-0.001571</td>\n",
       "      <td>-0.013853</td>\n",
       "      <td>0.013460</td>\n",
       "    </tr>\n",
       "    <tr>\n",
       "      <th>FSCIX</th>\n",
       "      <td>0.0</td>\n",
       "      <td>0.0</td>\n",
       "      <td>-0.010764</td>\n",
       "      <td>0.003781</td>\n",
       "      <td>-0.001619</td>\n",
       "      <td>0.000000</td>\n",
       "      <td>0.008602</td>\n",
       "      <td>0.004274</td>\n",
       "      <td>0.000000</td>\n",
       "      <td>-0.003203</td>\n",
       "      <td>...</td>\n",
       "      <td>-0.000633</td>\n",
       "      <td>0.003789</td>\n",
       "      <td>-0.006323</td>\n",
       "      <td>-0.000952</td>\n",
       "      <td>-0.003817</td>\n",
       "      <td>0.009830</td>\n",
       "      <td>-0.005696</td>\n",
       "      <td>-0.001588</td>\n",
       "      <td>-0.013762</td>\n",
       "      <td>0.013445</td>\n",
       "    </tr>\n",
       "  </tbody>\n",
       "</table>\n",
       "<p>3 rows × 1731 columns</p>\n",
       "</div>"
      ],
      "text/plain": [
       "       2007-01-03  2007-01-04  2007-01-05  2007-01-08  2007-01-09  2007-01-10  \\\n",
       "FSCEX         0.0         0.0   -0.010407    0.003686   -0.001841   -0.000614   \n",
       "FSCBX         0.0         0.0   -0.010517    0.003724   -0.001240   -0.001241   \n",
       "FSCIX         0.0         0.0   -0.010764    0.003781   -0.001619    0.000000   \n",
       "\n",
       "       2007-01-11  2007-01-12  2007-01-16  2007-01-17  ...  2013-10-28  \\\n",
       "FSCEX    0.008568    0.004863    0.000000   -0.003645  ...   -0.000386   \n",
       "FSCBX    0.008658    0.004914   -0.000613   -0.003070  ...   -0.000391   \n",
       "FSCIX    0.008602    0.004274    0.000000   -0.003203  ...   -0.000633   \n",
       "\n",
       "       2013-10-29  2013-10-30  2013-10-31  2013-11-01  2013-11-04  2013-11-05  \\\n",
       "FSCEX    0.003470   -0.006178   -0.001163   -0.003885    0.010070   -0.005797   \n",
       "FSCBX    0.003512   -0.006252   -0.001177   -0.003932    0.009802   -0.005870   \n",
       "FSCIX    0.003789   -0.006323   -0.000952   -0.003817    0.009830   -0.005696   \n",
       "\n",
       "       2013-11-06  2013-11-07  2013-11-08  \n",
       "FSCEX   -0.001940   -0.013685    0.013297  \n",
       "FSCBX   -0.001571   -0.013853    0.013460  \n",
       "FSCIX   -0.001588   -0.013762    0.013445  \n",
       "\n",
       "[3 rows x 1731 columns]"
      ]
     },
     "execution_count": 16,
     "metadata": {},
     "output_type": "execute_result"
    }
   ],
   "source": [
    "dft.head(3)"
   ]
  },
  {
   "cell_type": "code",
   "execution_count": 15,
   "metadata": {},
   "outputs": [],
   "source": [
    "# save preprocessed data to file\n",
    "dft.to_csv('fido_returns_funds_on_rows.csv', index=False)"
   ]
  },
  {
   "cell_type": "markdown",
   "metadata": {},
   "source": [
    "### Load Modules"
   ]
  },
  {
   "cell_type": "code",
   "execution_count": 17,
   "metadata": {},
   "outputs": [],
   "source": [
    "from pyspark import SparkContext\n",
    "from pyspark.mllib.clustering import KMeans, KMeansModel\n",
    "\n",
    "sc = SparkContext.getOrCreate()"
   ]
  },
  {
   "cell_type": "markdown",
   "metadata": {},
   "source": [
    "### Read in Preprocessed Data"
   ]
  },
  {
   "cell_type": "code",
   "execution_count": 2,
   "metadata": {},
   "outputs": [],
   "source": [
    "# Read as RDD. Dates along columns, funds along rows\n",
    "fido = sc.textFile(\"fido_returns_funds_on_rows.csv\")"
   ]
  },
  {
   "cell_type": "code",
   "execution_count": 3,
   "metadata": {},
   "outputs": [],
   "source": [
    "#fido.take(2)"
   ]
  },
  {
   "cell_type": "code",
   "execution_count": 4,
   "metadata": {},
   "outputs": [],
   "source": [
    "# save the header row\n",
    "header = fido.first()"
   ]
  },
  {
   "cell_type": "code",
   "execution_count": 5,
   "metadata": {},
   "outputs": [],
   "source": [
    "# build RDD without header\n",
    "fido_data = fido.filter(lambda row: row != header)"
   ]
  },
  {
   "cell_type": "code",
   "execution_count": 20,
   "metadata": {},
   "outputs": [],
   "source": [
    "#fido_data.take(1)"
   ]
  },
  {
   "cell_type": "code",
   "execution_count": 9,
   "metadata": {},
   "outputs": [],
   "source": [
    "# VALUE: 1 POINT\n",
    "# extract data by parsing out commas. cast to array of floats. hint: a list comprehension may be helpful.\n",
    "fido_parsed = fido_data.map(lambda line: np.array([float(x) for x in line.split(',')]))"
   ]
  },
  {
   "cell_type": "code",
   "execution_count": 10,
   "metadata": {},
   "outputs": [
    {
     "data": {
      "text/plain": [
       "[array([ 0.        ,  0.        , -0.0104072 , ..., -0.00193986,\n",
       "        -0.01368545,  0.01329703])]"
      ]
     },
     "execution_count": 10,
     "metadata": {},
     "output_type": "execute_result"
    }
   ],
   "source": [
    "fido_parsed.take(1)"
   ]
  },
  {
   "cell_type": "markdown",
   "metadata": {},
   "source": [
    "### Build the K-Means Model"
   ]
  },
  {
   "cell_type": "code",
   "execution_count": 11,
   "metadata": {},
   "outputs": [],
   "source": [
    "# parameters: use 3 clusters, and a maximum of 10 iterations\n",
    "num_clusters = 3  # k\n",
    "max_iter = 10"
   ]
  },
  {
   "cell_type": "code",
   "execution_count": 16,
   "metadata": {},
   "outputs": [],
   "source": [
    "# VALUE: 1 POINT\n",
    "# train k-means\n",
    "clusters = KMeans.train(fido_parsed, num_clusters, maxIterations=max_iter, initializationMode=\"random\")"
   ]
  },
  {
   "cell_type": "code",
   "execution_count": 17,
   "metadata": {},
   "outputs": [
    {
     "data": {
      "text/plain": [
       "<pyspark.mllib.clustering.KMeansModel at 0x7f557c530d50>"
      ]
     },
     "execution_count": 17,
     "metadata": {},
     "output_type": "execute_result"
    }
   ],
   "source": [
    "clusters"
   ]
  },
  {
   "cell_type": "code",
   "execution_count": 18,
   "metadata": {},
   "outputs": [
    {
     "data": {
      "text/plain": [
       "[array([ 0.        ,  0.00030585, -0.00074434, ...,  0.00128846,\n",
       "        -0.00486191,  0.00077248]),\n",
       " array([ 0.        , -0.00076798, -0.00626858, ...,  0.00184544,\n",
       "        -0.01327054,  0.00936274]),\n",
       " array([ 0.        , -0.00109437, -0.01218246, ...,  0.00229498,\n",
       "        -0.01295338,  0.00637824])]"
      ]
     },
     "execution_count": 18,
     "metadata": {},
     "output_type": "execute_result"
    }
   ],
   "source": [
    "clusters.centers"
   ]
  },
  {
   "cell_type": "code",
   "execution_count": 19,
   "metadata": {},
   "outputs": [
    {
     "data": {
      "text/plain": [
       "3"
      ]
     },
     "execution_count": 19,
     "metadata": {},
     "output_type": "execute_result"
    }
   ],
   "source": [
    "clusters.k"
   ]
  },
  {
   "cell_type": "code",
   "execution_count": 20,
   "metadata": {},
   "outputs": [],
   "source": [
    "# VALUE: 2 POINTS\n",
    "# Write a function called error() which takes a point as input and returns Within Set Sum of Squared Errors (WSSE)\n",
    "\n",
    "def error(point):\n",
    "    center = clusters.centers[clusters.predict(point)]\n",
    "    return sum([x**2 for x in (point - center)])"
   ]
  },
  {
   "cell_type": "code",
   "execution_count": 21,
   "metadata": {},
   "outputs": [
    {
     "name": "stdout",
     "output_type": "stream",
     "text": [
      "Within Set Sum of Squared Error = 55.027494056028374\n"
     ]
    }
   ],
   "source": [
    "WSSSE = fido_parsed.map(lambda point: error(point)).reduce(lambda x, y: x + y)\n",
    "print(\"Within Set Sum of Squared Error = \" + str(WSSSE))"
   ]
  },
  {
   "cell_type": "code",
   "execution_count": 22,
   "metadata": {},
   "outputs": [],
   "source": [
    "# VALUE: 1 POINT\n",
    "# k=3\n",
    "#Within Set Sum of Squared Error = 50.68126698527291"
   ]
  },
  {
   "cell_type": "code",
   "execution_count": 29,
   "metadata": {},
   "outputs": [],
   "source": [
    "# VALUE: 2 POINTS\n",
    "# Write code to fit k-means with k ranging from 2 through 10, inclusive.  Then print WSSE for each value of k.\n",
    "\n",
    "num_clusters_list = range(2,11)\n",
    "# set up storage\n",
    "kmeans_out = pd.DataFrame(columns=['wsse'], index=num_clusters_list)\n",
    "\n",
    "for k in num_clusters_list:\n",
    "    clusters = KMeans.train(fido_parsed, k, maxIterations=max_iter, initializationMode=\"random\")\n",
    "    WSSSE = fido_parsed.map(lambda point: error(point)).reduce(lambda x, y: x + y)\n",
    "    kmeans_out.wsse.loc[k] = WSSSE"
   ]
  },
  {
   "cell_type": "code",
   "execution_count": 30,
   "metadata": {},
   "outputs": [
    {
     "data": {
      "text/html": [
       "<div>\n",
       "<style scoped>\n",
       "    .dataframe tbody tr th:only-of-type {\n",
       "        vertical-align: middle;\n",
       "    }\n",
       "\n",
       "    .dataframe tbody tr th {\n",
       "        vertical-align: top;\n",
       "    }\n",
       "\n",
       "    .dataframe thead th {\n",
       "        text-align: right;\n",
       "    }\n",
       "</style>\n",
       "<table border=\"1\" class=\"dataframe\">\n",
       "  <thead>\n",
       "    <tr style=\"text-align: right;\">\n",
       "      <th></th>\n",
       "      <th>wsse</th>\n",
       "    </tr>\n",
       "  </thead>\n",
       "  <tbody>\n",
       "    <tr>\n",
       "      <th>2</th>\n",
       "      <td>59.5664</td>\n",
       "    </tr>\n",
       "    <tr>\n",
       "      <th>3</th>\n",
       "      <td>51.5867</td>\n",
       "    </tr>\n",
       "    <tr>\n",
       "      <th>4</th>\n",
       "      <td>44.8726</td>\n",
       "    </tr>\n",
       "    <tr>\n",
       "      <th>5</th>\n",
       "      <td>47.4891</td>\n",
       "    </tr>\n",
       "    <tr>\n",
       "      <th>6</th>\n",
       "      <td>38.3483</td>\n",
       "    </tr>\n",
       "    <tr>\n",
       "      <th>7</th>\n",
       "      <td>37.2469</td>\n",
       "    </tr>\n",
       "    <tr>\n",
       "      <th>8</th>\n",
       "      <td>37.6999</td>\n",
       "    </tr>\n",
       "    <tr>\n",
       "      <th>9</th>\n",
       "      <td>34.6288</td>\n",
       "    </tr>\n",
       "    <tr>\n",
       "      <th>10</th>\n",
       "      <td>30.5329</td>\n",
       "    </tr>\n",
       "  </tbody>\n",
       "</table>\n",
       "</div>"
      ],
      "text/plain": [
       "       wsse\n",
       "2   59.5664\n",
       "3   51.5867\n",
       "4   44.8726\n",
       "5   47.4891\n",
       "6   38.3483\n",
       "7   37.2469\n",
       "8   37.6999\n",
       "9   34.6288\n",
       "10  30.5329"
      ]
     },
     "execution_count": 30,
     "metadata": {},
     "output_type": "execute_result"
    }
   ],
   "source": [
    "kmeans_out"
   ]
  },
  {
   "cell_type": "code",
   "execution_count": 31,
   "metadata": {},
   "outputs": [],
   "source": [
    "%matplotlib inline\n",
    "import matplotlib.pyplot as plt"
   ]
  },
  {
   "cell_type": "code",
   "execution_count": 32,
   "metadata": {},
   "outputs": [
    {
     "data": {
      "image/png": "[encoded data removed]",
      "text/plain": [
       "<Figure size 432x288 with 1 Axes>"
      ]
     },
     "metadata": {
      "needs_background": "light"
     },
     "output_type": "display_data"
    }
   ],
   "source": [
    "# VALUE: 1 POINT\n",
    "\n",
    "# plot k on the x-axis, and WSSE on the y-axis\n",
    "plt.plot(kmeans_out.index, kmeans_out.wsse)\n",
    "plt.xlabel('number_of_clusters')\n",
    "plt.ylabel('WSSE')\n",
    "plt.title('WSSE vs Clusters')\n",
    "plt.grid(True)\n",
    "plt.savefig(\"fido_kmeans.png\")\n",
    "plt.show()"
   ]
  },
  {
   "cell_type": "markdown",
   "metadata": {},
   "source": [
    "### Look at predicted cluster membership"
   ]
  },
  {
   "cell_type": "code",
   "execution_count": 33,
   "metadata": {},
   "outputs": [],
   "source": [
    "# VALUE: 1 POINT\n",
    "# For the case k=10: \n",
    "# predict the cluster each fund belongs to\n",
    "# print the number of funds assigned to each cluster (need to code for this)\n",
    "\n",
    "ten_clusters = KMeans.train(fido_parsed, k, maxIterations=max_iter, initializationMode=\"random\")\n",
    "preds = ten_clusters.predict(fido_parsed).collect()"
   ]
  },
  {
   "cell_type": "code",
   "execution_count": 34,
   "metadata": {},
   "outputs": [
    {
     "data": {
      "text/plain": [
       "Counter({4: 208,\n",
       "         1: 81,\n",
       "         8: 206,\n",
       "         7: 148,\n",
       "         6: 109,\n",
       "         9: 60,\n",
       "         2: 32,\n",
       "         3: 7,\n",
       "         5: 30,\n",
       "         0: 46})"
      ]
     },
     "execution_count": 34,
     "metadata": {},
     "output_type": "execute_result"
    }
   ],
   "source": [
    "from collections import Counter\n",
    "pred_count_by_cluster = Counter(preds)\n",
    "pred_count_by_cluster"
   ]
  }
 ],
 "metadata": {
  "kernelspec": {
   "display_name": "DS 5559",
   "language": "python",
   "name": "ds5559"
  },
  "language_info": {
   "codemirror_mode": {
    "name": "ipython",
    "version": 3
   },
   "file_extension": ".py",
   "mimetype": "text/x-python",
   "name": "python",
   "nbconvert_exporter": "python",
   "pygments_lexer": "ipython3",
   "version": "3.7.6"
  }
 },
 "nbformat": 4,
 "nbformat_minor": 4
}
