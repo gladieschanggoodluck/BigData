{
 "cells": [
  {
   "cell_type": "markdown",
   "metadata": {},
   "source": [
    "### University of Virginia \n",
    "### DS 5559: Big Data Analytics\n",
    "### Assignment: Tools for Supervised Learning\n",
    "### Last Updated: Oct 20, 2019\n",
    "---  "
   ]
  },
  {
   "cell_type": "markdown",
   "metadata": {},
   "source": [
    "**Instructions**  \n",
    "In this assignment, you will code functions to support supervised learning tasks.  The outline is provided below.  The value *None* is used as a placeholder.\n",
    "\n",
    "TOTAL POINTS: 10"
   ]
  },
  {
   "cell_type": "markdown",
   "metadata": {},
   "source": [
    "### MODULES"
   ]
  },
  {
   "cell_type": "code",
   "execution_count": 1,
   "metadata": {},
   "outputs": [],
   "source": [
    "import os"
   ]
  },
  {
   "cell_type": "code",
   "execution_count": 2,
   "metadata": {},
   "outputs": [],
   "source": [
    "from pyspark.sql import SparkSession\n",
    "\n",
    "spark = SparkSession \\\n",
    "    .builder \\\n",
    "    .master(\"local\") \\\n",
    "    .appName(\"data preprocessing\") \\\n",
    "    .config(\"spark.executor.memory\", '8g') \\\n",
    "    .config('spark.executor.cores', '4') \\\n",
    "    .config('spark.cores.max', '4') \\\n",
    "    .config(\"spark.driver.memory\",'8g') \\\n",
    "    .getOrCreate()\n",
    "\n",
    "sc = spark.sparkContext"
   ]
  },
  {
   "cell_type": "markdown",
   "metadata": {},
   "source": [
    "### PARAMETERS"
   ]
  },
  {
   "cell_type": "code",
   "execution_count": 3,
   "metadata": {
    "scrolled": true
   },
   "outputs": [],
   "source": [
    "directory_path = '/home/jovyan/work/data/brca/'\n",
    "full_path_to_file = os.path.join(directory_path, 'breast_cancer_wisconsin.csv')\n",
    "path_to_data = os.path.join(full_path_to_file)"
   ]
  },
  {
   "cell_type": "code",
   "execution_count": 4,
   "metadata": {},
   "outputs": [],
   "source": [
    "# class = 2 for benign (negative class, 4 for malignant (positive class)\n",
    "target = 'class'\n",
    "positive_label = 4\n",
    "negative_label = 2\n",
    "\n",
    "SEED = 314"
   ]
  },
  {
   "cell_type": "markdown",
   "metadata": {},
   "source": [
    "### READ IN DATA"
   ]
  },
  {
   "cell_type": "code",
   "execution_count": 5,
   "metadata": {},
   "outputs": [],
   "source": [
    "brca = spark.read.csv(path_to_data, header=True, inferSchema=True)"
   ]
  },
  {
   "cell_type": "code",
   "execution_count": 6,
   "metadata": {},
   "outputs": [
    {
     "name": "stdout",
     "output_type": "stream",
     "text": [
      "root\n",
      " |-- sample_code_number: integer (nullable = true)\n",
      " |-- clump_thickness: integer (nullable = true)\n",
      " |-- uniformity_cell_size: integer (nullable = true)\n",
      " |-- uniformity_cell_shape: integer (nullable = true)\n",
      " |-- marginal_adhesion: integer (nullable = true)\n",
      " |-- single_epithelial_cell_size: integer (nullable = true)\n",
      " |-- bare_nuclei: string (nullable = true)\n",
      " |-- bland_chromatin: integer (nullable = true)\n",
      " |-- normal_nucleoli: integer (nullable = true)\n",
      " |-- mitosis: integer (nullable = true)\n",
      " |-- class: integer (nullable = true)\n",
      "\n"
     ]
    }
   ],
   "source": [
    "brca.printSchema()"
   ]
  },
  {
   "cell_type": "code",
   "execution_count": 7,
   "metadata": {},
   "outputs": [
    {
     "data": {
      "text/plain": [
       "699"
      ]
     },
     "execution_count": 7,
     "metadata": {},
     "output_type": "execute_result"
    }
   ],
   "source": [
    "brca.count()"
   ]
  },
  {
   "cell_type": "code",
   "execution_count": 8,
   "metadata": {},
   "outputs": [
    {
     "name": "stdout",
     "output_type": "stream",
     "text": [
      "+-----+-----+\n",
      "|class|count|\n",
      "+-----+-----+\n",
      "|    4|  241|\n",
      "|    2|  458|\n",
      "+-----+-----+\n",
      "\n"
     ]
    }
   ],
   "source": [
    "# compute distribution of target variable\n",
    "brca.groupBy(target).count().show()"
   ]
  },
  {
   "cell_type": "markdown",
   "metadata": {},
   "source": [
    "### Task 1:  Balancing a DataFrame with Downsampling  \n",
    "i) (**4 PTS**) Write a function to implement downsampling.  Enter code into the cell containing the `downsample` function.  \n",
    "\n",
    "INPUTS  \n",
    "* df               - Spark dataframe  \n",
    "* target           - string, target variable  \n",
    "* positive_label   - integer, value of positive label  \n",
    "* negative_label   - integer, value of negative label  \n",
    "\n",
    "OUTPUT  \n",
    "balanced spark dataframe  \n",
    "\n",
    "Downsampling = sample from larger class to match smaller class  "
   ]
  },
  {
   "cell_type": "code",
   "execution_count": 9,
   "metadata": {},
   "outputs": [],
   "source": [
    "def downsample(df, target, positive_label, negative_label):\n",
    "    \"\"\"\n",
    "    df              spark dataframe\n",
    "    target          str, target variable\n",
    "    positive_label  int, value of positive label\n",
    "    negative_label  int, value of negative label\n",
    "    \n",
    "    \"\"\"\n",
    "    positives = df.filter(df[target] == positive_label)\n",
    "    negatives = df.filter(df[target] == negative_label)\n",
    "    num_positives = positives.count()\n",
    "    num_negatives = negatives.count()\n",
    "    \n",
    "    if (num_positives > num_negatives): # downsample positives\n",
    "        sampled_df = positives.sample(withReplacement=False, fraction=num_negatives/num_positives, seed=SEED)\n",
    "        df_b = sampled_df.union(negatives)\n",
    "    if (num_positives < num_negatives): # downsample negatives\n",
    "        sampled_df = negatives.sample(withReplacement=False, fraction=num_positives/num_negatives, seed=SEED)\n",
    "        df_b = sampled_df.union(positives)\n",
    "    \n",
    "    return df_b"
   ]
  },
  {
   "cell_type": "markdown",
   "metadata": {},
   "source": [
    "ii) **(1 PT)** Print the target distribution from this balanced dataset, to show the label counts nearly match.\n",
    "\n",
    "#### IMPORTANT NOTE:\n",
    "Sampling won't produce the exact fraction you request. In order to sample efficiently, Spark uses Bernouilli Sampling. \n",
    "Each row is assigned a probability of being included. If you request a 10% sample, each row individually has a 10% chance of being included but this does not guarantee an exact 10% sample   \n",
    "(it should be close, however)."
   ]
  },
  {
   "cell_type": "code",
   "execution_count": 10,
   "metadata": {},
   "outputs": [],
   "source": [
    "brca_b = downsample(brca, target, positive_label, negative_label)"
   ]
  },
  {
   "cell_type": "code",
   "execution_count": 11,
   "metadata": {},
   "outputs": [
    {
     "name": "stdout",
     "output_type": "stream",
     "text": [
      "+-----+-----+\n",
      "|class|count|\n",
      "+-----+-----+\n",
      "|    4|  241|\n",
      "|    2|  255|\n",
      "+-----+-----+\n",
      "\n"
     ]
    }
   ],
   "source": [
    "brca_b.groupBy(target).count().show()"
   ]
  },
  {
   "cell_type": "markdown",
   "metadata": {},
   "source": [
    "### Task 2:  Univariate AUC Measurement  \n",
    "\n",
    "In this exercise, you will measure (in a particular sense) the individual predictive power of the following variables:  \n",
    "* clump_thickness\n",
    "* uniformity_cell_size\n",
    "* uniformity_cell_shape\n",
    "* marginal_adhesion\n",
    "* single_epithelial_cell_size\n",
    "\n",
    "**(5 PTS)** Complete the `compute_univariate_aucs` function below, and print the resulting dataframe in the cell at bottom.\n",
    "The function does the following in this order:  \n",
    "* Split the dataset into training and testing sets (*60% / 40%*, respectively)  \n",
    "* For each variable v:  \n",
    "    * train a logistic regression classifier with intercept, including variable *v* as predictor\n",
    "    * classify each record in the test set  \n",
    "    * measure the area under the ROC curve  \n",
    "* Return a pandas dataframe containing each variable, its model weight (coefficient), and its Univariate AUC, sorted by Univariate AUC in descending order.  There is a cell at the bottom for placing these results.\n",
    "\n",
    "INPUTS  \n",
    "* df, Spark dataframe \n",
    "* target variable as string\n",
    "* training_fraction  \n",
    "* max_iterations  \n",
    "* seed  \n",
    "\n",
    "OUTPUTS  \n",
    "dataframe containing three columns: variable name, weight, AUROC  \n",
    "\n",
    "#### IMPORTANT NOTES:   \n",
    "1) LabeledPoint requires that positive label = 1, negative label = 0  \n",
    "2) Do NOT use the downsampling function"
   ]
  },
  {
   "cell_type": "code",
   "execution_count": 7,
   "metadata": {},
   "outputs": [],
   "source": [
    "# load modules\n",
    "import pandas as pd\n",
    "import pyspark.sql.functions as F\n",
    "import pyspark.mllib.regression as reg\n",
    "from pyspark.mllib.classification import LogisticRegressionWithLBFGS\n",
    "from pyspark.mllib.evaluation import BinaryClassificationMetrics"
   ]
  },
  {
   "cell_type": "code",
   "execution_count": 8,
   "metadata": {},
   "outputs": [],
   "source": [
    "# parameters\n",
    "training_fraction = 0.6\n",
    "ITERS = 10"
   ]
  },
  {
   "cell_type": "code",
   "execution_count": 9,
   "metadata": {},
   "outputs": [],
   "source": [
    "# narrow the list of features for modeling\n",
    "\n",
    "vars_to_keep = [\n",
    " 'clump_thickness',\n",
    " 'uniformity_cell_size',\n",
    " 'uniformity_cell_shape',\n",
    " 'marginal_adhesion',\n",
    " 'single_epithelial_cell_size'\n",
    "]"
   ]
  },
  {
   "cell_type": "code",
   "execution_count": 10,
   "metadata": {},
   "outputs": [],
   "source": [
    "brca_f = brca.select([target]+vars_to_keep)"
   ]
  },
  {
   "cell_type": "code",
   "execution_count": 11,
   "metadata": {},
   "outputs": [
    {
     "name": "stdout",
     "output_type": "stream",
     "text": [
      "+-----+---------------+--------------------+---------------------+-----------------+---------------------------+\n",
      "|class|clump_thickness|uniformity_cell_size|uniformity_cell_shape|marginal_adhesion|single_epithelial_cell_size|\n",
      "+-----+---------------+--------------------+---------------------+-----------------+---------------------------+\n",
      "|    2|              5|                   1|                    1|                1|                          2|\n",
      "|    2|              5|                   4|                    4|                5|                          7|\n",
      "|    2|              3|                   1|                    1|                1|                          2|\n",
      "+-----+---------------+--------------------+---------------------+-----------------+---------------------------+\n",
      "only showing top 3 rows\n",
      "\n"
     ]
    }
   ],
   "source": [
    "brca_f.show(3)"
   ]
  },
  {
   "cell_type": "code",
   "execution_count": 12,
   "metadata": {},
   "outputs": [],
   "source": [
    "# map target labels to 0/1\n",
    "brca_f = brca_f.withColumn(target,F.when(brca_f[target] == positive_label, 1).otherwise(0))"
   ]
  },
  {
   "cell_type": "code",
   "execution_count": 13,
   "metadata": {},
   "outputs": [
    {
     "name": "stdout",
     "output_type": "stream",
     "text": [
      "+-----+-----+\n",
      "|class|count|\n",
      "+-----+-----+\n",
      "|    1|  241|\n",
      "|    0|  458|\n",
      "+-----+-----+\n",
      "\n"
     ]
    }
   ],
   "source": [
    "brca_f.groupBy([target]).count().show()"
   ]
  },
  {
   "cell_type": "code",
   "execution_count": 36,
   "metadata": {},
   "outputs": [],
   "source": [
    "def compute_univariate_aucs(df, target, training_fraction, iters, seed):\n",
    "\n",
    "    data_train, data_test = df.randomSplit([training_fraction, 1 - training_fraction], seed=seed)\n",
    "    \n",
    "    # list of predictor variables\n",
    "    vars = [v for v in brca_f.columns if v != target]\n",
    "    \n",
    "    # results storage\n",
    "    df_auc = pd.DataFrame(index=vars, columns=['weight','auroc'])    \n",
    "\n",
    "    for v in vars:    \n",
    "        print('=== analysis of variable: {}'.format(v))\n",
    "\n",
    "        # select columns\n",
    "        datai_tr = data_train.select([target, v])\n",
    "        datai_te = data_test.select([target, v])\n",
    "\n",
    "        # cast to LabeledPoint\n",
    "        # train\n",
    "        datai_tr_lp = datai_tr \\\n",
    "                     .rdd \\\n",
    "                     .map(lambda row: reg.LabeledPoint(row[0], row[1:]))\n",
    "        \n",
    "        # test\n",
    "        datai_te_lp = datai_te \\\n",
    "                     .rdd \\\n",
    "                     .map(lambda row: reg.LabeledPoint(row[0], row[1:]))\n",
    "\n",
    "        LR_Model = LogisticRegressionWithLBFGS.train(datai_tr_lp, iterations=iters, intercept=True)\n",
    "\n",
    "        # from test set, zip labels with predicted labels and cast to float\n",
    "        act_pred_test_set = datai_te_lp.map(lambda p: (p.label, LR_Model.predict(p.features))) \\\n",
    "                                            .map(lambda row: (row[0], row[1] * 1.0))\n",
    "\n",
    "        metrics = BinaryClassificationMetrics(act_pred_test_set)\n",
    "\n",
    "        df_auc['weight'].loc[v] = LR_Model.weights[0]\n",
    "        df_auc['auroc'].loc[v] = metrics.areaUnderROC\n",
    "        print('=== completed analysis of variable: {}'.format(v))\n",
    "        \n",
    "    df_auc.sort_values(by='auroc', ascending=False, inplace=True)\n",
    "    \n",
    "    return df_auc"
   ]
  },
  {
   "cell_type": "markdown",
   "metadata": {},
   "source": [
    "Call the `compute_univariate_aucs` and print the results from the dataframe.  Remember not to downsample."
   ]
  },
  {
   "cell_type": "code",
   "execution_count": 37,
   "metadata": {},
   "outputs": [
    {
     "name": "stdout",
     "output_type": "stream",
     "text": [
      "=== analysis of variable: clump_thickness\n",
      "=== completed analysis of variable: clump_thickness\n",
      "=== analysis of variable: uniformity_cell_size\n",
      "=== completed analysis of variable: uniformity_cell_size\n",
      "=== analysis of variable: uniformity_cell_shape\n",
      "=== completed analysis of variable: uniformity_cell_shape\n",
      "=== analysis of variable: marginal_adhesion\n",
      "=== completed analysis of variable: marginal_adhesion\n",
      "=== analysis of variable: single_epithelial_cell_size\n",
      "=== completed analysis of variable: single_epithelial_cell_size\n"
     ]
    },
    {
     "data": {
      "text/html": [
       "<div>\n",
       "<style scoped>\n",
       "    .dataframe tbody tr th:only-of-type {\n",
       "        vertical-align: middle;\n",
       "    }\n",
       "\n",
       "    .dataframe tbody tr th {\n",
       "        vertical-align: top;\n",
       "    }\n",
       "\n",
       "    .dataframe thead th {\n",
       "        text-align: right;\n",
       "    }\n",
       "</style>\n",
       "<table border=\"1\" class=\"dataframe\">\n",
       "  <thead>\n",
       "    <tr style=\"text-align: right;\">\n",
       "      <th></th>\n",
       "      <th>weight</th>\n",
       "      <th>auroc</th>\n",
       "    </tr>\n",
       "  </thead>\n",
       "  <tbody>\n",
       "    <tr>\n",
       "      <th>uniformity_cell_size</th>\n",
       "      <td>1.65358</td>\n",
       "      <td>0.914467</td>\n",
       "    </tr>\n",
       "    <tr>\n",
       "      <th>uniformity_cell_shape</th>\n",
       "      <td>1.65846</td>\n",
       "      <td>0.884134</td>\n",
       "    </tr>\n",
       "    <tr>\n",
       "      <th>single_epithelial_cell_size</th>\n",
       "      <td>1.29378</td>\n",
       "      <td>0.878502</td>\n",
       "    </tr>\n",
       "    <tr>\n",
       "      <th>marginal_adhesion</th>\n",
       "      <td>1.0952</td>\n",
       "      <td>0.86831</td>\n",
       "    </tr>\n",
       "    <tr>\n",
       "      <th>clump_thickness</th>\n",
       "      <td>0.987542</td>\n",
       "      <td>0.839804</td>\n",
       "    </tr>\n",
       "  </tbody>\n",
       "</table>\n",
       "</div>"
      ],
      "text/plain": [
       "                               weight     auroc\n",
       "uniformity_cell_size          1.65358  0.914467\n",
       "uniformity_cell_shape         1.65846  0.884134\n",
       "single_epithelial_cell_size   1.29378  0.878502\n",
       "marginal_adhesion              1.0952   0.86831\n",
       "clump_thickness              0.987542  0.839804"
      ]
     },
     "execution_count": 37,
     "metadata": {},
     "output_type": "execute_result"
    }
   ],
   "source": [
    "compute_univariate_aucs(brca_f, target, training_fraction, ITERS, SEED)"
   ]
  }
 ],
 "metadata": {
  "kernelspec": {
   "display_name": "Python 3",
   "language": "python",
   "name": "python3"
  },
  "language_info": {
   "codemirror_mode": {
    "name": "ipython",
    "version": 3
   },
   "file_extension": ".py",
   "mimetype": "text/x-python",
   "name": "python",
   "nbconvert_exporter": "python",
   "pygments_lexer": "ipython3",
   "version": "3.7.4"
  }
 },
 "nbformat": 4,
 "nbformat_minor": 2
}
