{
 "cells": [
  {
   "cell_type": "markdown",
   "metadata": {},
   "source": [
    "### Commercial Data Analysis\n",
    "\n",
    "### University of Virginia\n",
    "### DS 5559: Big Data Analytics\n",
    "### Last Updated: June 2, 2020"
   ]
  },
  {
   "cell_type": "markdown",
   "metadata": {},
   "source": [
    "### INSTRUCTIONS  \n",
    "In this assignment, you will work with a dataset containing information about businesses.  Each record is a business location.  Follow the steps below, writing and running the code in blocks, and displaying the solutions.  \n",
    "\n",
    "Each question part is worth 1 POINT, for a total of 15 POINTS."
   ]
  },
  {
   "cell_type": "code",
   "execution_count": 4,
   "metadata": {},
   "outputs": [],
   "source": [
    "from pyspark.sql import SparkSession\n",
    "\n",
    "spark = SparkSession.builder \\\n",
    "        .appName(\"comm\") \\\n",
    "        .getOrCreate()"
   ]
  },
  {
   "cell_type": "code",
   "execution_count": 9,
   "metadata": {},
   "outputs": [],
   "source": [
    "import os"
   ]
  },
  {
   "cell_type": "code",
   "execution_count": 23,
   "metadata": {},
   "outputs": [],
   "source": [
    "path_to_file = 'part-00000-a159c41a-bc58-4476-9b78-c437667f9c2b-c000.json.gz'"
   ]
  },
  {
   "cell_type": "markdown",
   "metadata": {},
   "source": [
    "**1. (1 PT) Read in the dataset and show the number of records**"
   ]
  },
  {
   "cell_type": "code",
   "execution_count": 24,
   "metadata": {},
   "outputs": [
    {
     "data": {
      "text/plain": [
       "154679"
      ]
     },
     "execution_count": 24,
     "metadata": {},
     "output_type": "execute_result"
    }
   ],
   "source": [
    "df = spark.read.json(path_to_file)\n",
    "\n",
    "df.count()"
   ]
  },
  {
   "cell_type": "markdown",
   "metadata": {},
   "source": [
    "**2. (1 PT) Print the schema**"
   ]
  },
  {
   "cell_type": "code",
   "execution_count": null,
   "metadata": {},
   "outputs": [],
   "source": [
    "df.printSchema()\n",
    "\n",
    "root\n",
    " |-- address: struct (nullable = true)\n",
    " |    |-- city: string (nullable = true)\n",
    " |    |-- coordinates: struct (nullable = true)\n",
    " |    |    |-- lat: double (nullable = true)\n",
    " |    |    |-- lon: double (nullable = true)\n",
    " |    |-- country: string (nullable = true)\n",
    " |    |-- county: string (nullable = true)\n",
    " |    |-- full_address: string (nullable = true)\n",
    " |    |-- highway_number: string (nullable = true)\n",
    " |    |-- is_headquarters: boolean (nullable = true)\n",
    " |    |-- is_parsed: boolean (nullable = true)\n",
    " |    |-- post_direction: string (nullable = true)\n",
    " |    |-- pre_direction: string (nullable = true)\n",
    " |    |-- secondary_number: string (nullable = true)\n",
    " |    |-- state: string (nullable = true)\n",
    " |    |-- street: string (nullable = true)\n",
    " |    |-- street_address: string (nullable = true)\n",
    " |    |-- street_number: string (nullable = true)\n",
    " |    |-- street_type: string (nullable = true)\n",
    " |    |-- type_of_address: string (nullable = true)\n",
    " |    |-- zip: string (nullable = true)\n",
    " |    |-- zip_suffix: string (nullable = true)\n",
    " |-- business_tags: struct (nullable = true)\n",
    " |    |-- no: array (nullable = true)\n",
    " |    |    |-- element: string (containsNull = true)\n",
    " |    |-- tags: array (nullable = true)\n",
    " |    |    |-- element: struct (containsNull = true)\n",
    " |    |    |    |-- name: string (nullable = true)\n",
    " |    |    |    |-- value: string (nullable = true)\n",
    " |    |-- yes: array (nullable = true)\n",
    " |    |    |-- element: string (containsNull = true)\n",
    " |-- hours: struct (nullable = true)\n",
    " |    |-- any_day_is_24: boolean (nullable = true)\n",
    " |    |-- friday_close: string (nullable = true)\n",
    " |    |-- friday_lb: long (nullable = true)\n",
    " |    |-- friday_open: string (nullable = true)\n",
    " |    |-- friday_total_seconds: long (nullable = true)\n",
    " |    |-- hours: struct (nullable = true)\n",
    " |    |    |-- Friday: string (nullable = true)\n",
    " |    |    |-- Monday: string (nullable = true)\n",
    " |    |    |-- Saturday: string (nullable = true)\n",
    " |    |    |-- Sunday: string (nullable = true)\n",
    " |    |    |-- Thursday: string (nullable = true)\n",
    " |    |    |-- Tuesday: string (nullable = true)\n",
    " |    |    |-- Wednesday: string (nullable = true)\n",
    " |    |-- monday_close: string (nullable = true)\n",
    " |    |-- monday_lb: long (nullable = true)\n",
    " |    |-- monday_open: string (nullable = true)\n",
    " |    |-- monday_total_seconds: long (nullable = true)\n",
    " |    |-- saturday_close: string (nullable = true)\n",
    " |    |-- saturday_lb: long (nullable = true)\n",
    " |    |-- saturday_open: string (nullable = true)\n",
    " |    |-- saturday_total_seconds: long (nullable = true)\n",
    " |    |-- sunday_close: string (nullable = true)\n",
    " |    |-- sunday_lb: long (nullable = true)\n",
    " |    |-- sunday_open: string (nullable = true)\n",
    " |    |-- sunday_total_seconds: long (nullable = true)\n",
    " |    |-- thursday_close: string (nullable = true)\n",
    " |    |-- thursday_lb: long (nullable = true)\n",
    " |    |-- thursday_open: string (nullable = true)\n",
    " |    |-- thursday_total_seconds: long (nullable = true)\n",
    " |    |-- tuesday_close: string (nullable = true)\n",
    " |    |-- tuesday_lb: long (nullable = true)\n",
    " |    |-- tuesday_open: string (nullable = true)\n",
    " |    |-- tuesday_total_seconds: long (nullable = true)\n",
    " |    |-- wednesday_close: string (nullable = true)\n",
    " |    |-- wednesday_lb: long (nullable = true)\n",
    " |    |-- wednesday_open: string (nullable = true)\n",
    " |    |-- wednesday_total_seconds: long (nullable = true)\n",
    " |    |-- week_total_hours_pretty: string (nullable = true)\n",
    " |    |-- week_total_minutes_pretty: string (nullable = true)\n",
    " |    |-- week_total_seconds: long (nullable = true)\n",
    " |-- id: string (nullable = true)\n",
    " |-- menu: struct (nullable = true)\n",
    " |    |-- price_range: string (nullable = true)\n",
    " |    |-- url: string (nullable = true)\n",
    " |-- reviews: array (nullable = true)\n",
    " |    |-- element: struct (containsNull = true)\n",
    " |    |    |-- content: string (nullable = true)\n",
    " |    |    |-- date: string (nullable = true)\n",
    " |    |    |-- dislikes: long (nullable = true)\n",
    " |    |    |-- gender: string (nullable = true)\n",
    " |    |    |-- id: string (nullable = true)\n",
    " |    |    |-- language: string (nullable = true)\n",
    " |    |    |-- likes: long (nullable = true)\n",
    " |    |    |-- source: string (nullable = true)\n",
    " |    |    |-- stars: long (nullable = true)\n",
    " |    |    |-- tags: array (nullable = true)\n",
    " |    |    |    |-- element: string (containsNull = true)\n",
    " |    |    |-- url: string (nullable = true)\n",
    " |    |    |-- user: string (nullable = true)\n",
    " |    |    |-- user_id: string (nullable = true)\n",
    " |-- urls: struct (nullable = true)\n",
    " |    |-- domain: string (nullable = true)\n",
    " |    |-- domains: array (nullable = true)\n",
    " |    |    |-- element: string (containsNull = true)\n",
    " |    |-- email: string (nullable = true)\n",
    " |    |-- url: string (nullable = true)\n",
    " |    |-- urls: array (nullable = true)\n",
    " |    |    |-- element: string (containsNull = true)\n",
    " |-- webpage: struct (nullable = true)\n",
    " |    |-- content: string (nullable = true)\n",
    " |    |-- count: long (nullable = true)\n",
    " |    |-- elapsed: double (nullable = true)\n",
    " |    |-- success: boolean (nullable = true)\n",
    " |    |-- timestamp: string (nullable = true)\n",
    " |    |-- title: string (nullable = true)\n",
    " |    |-- url: string (nullable = true)\n",
    " |    |-- urlhash: string (nullable = true)\n",
    " |    |-- validurl: string (nullable = true)\n"
   ]
  },
  {
   "cell_type": "markdown",
   "metadata": {},
   "source": [
    "**3. (1 PT) Show the first 5 records**  \n",
    "hint: reaching deeper fields in json hierarchy can be done like this:  \n",
    "\n",
    "`df.select('address.street_number')`"
   ]
  },
  {
   "cell_type": "code",
   "execution_count": null,
   "metadata": {},
   "outputs": [],
   "source": [
    ">>> df.select('*').show(5)\n",
    "\n",
    "+--------------------+--------------------+--------------------+----------------+----+--------------------+--------------------+--------------------+\n",
    "|             address|       business_tags|               hours|              id|menu|             reviews|                urls|             webpage|\n",
    "+--------------------+--------------------+--------------------+----------------+----+--------------------+--------------------+--------------------+\n",
    "|[Woodburn,[45.150...|                null|                null|000023995a540868|null|                  []|[woodburn.k12.or....|[Educational Tech...|\n",
    "|[Hialeah,[25.8842...|[WrappedArray(),W...|[null,1900,null,0...|0000821a1394916e|null|                null|[null,WrappedArra...|                null|\n",
    "|[Rochester,[43.13...|[WrappedArray(),W...|[null,1700,null,0...|000136e65d50c3b7|null|[[New (to me) qui...|[usps.com,Wrapped...|[Welcome | USPS G...|\n",
    "|[West Palm Beach,...|                null|                null|00014329a70b9869|null|                null|                null|                null|\n",
    "|[Eufaula,[35.2830...|                null|[null,1700,null,0...|00031c0a83f00657|null|                null|[drsodomcoburnand...|[DRS. COBURN, RIC...|\n",
    "+--------------------+--------------------+--------------------+----------------+----+--------------------+--------------------+--------------------+\n"
   ]
  },
  {
   "cell_type": "markdown",
   "metadata": {},
   "source": [
    "**4. (1 PT) Location**  \n",
    "\n",
    "Count the number of records where the city is Houston"
   ]
  },
  {
   "cell_type": "code",
   "execution_count": null,
   "metadata": {},
   "outputs": [],
   "source": [
    "df.filter(df.address.city=='Houston').count()\n",
    "1668"
   ]
  },
  {
   "cell_type": "markdown",
   "metadata": {},
   "source": [
    "**5. (1 PT) Hours**  \n",
    "\n",
    "Count the number of records where closing time on Friday is 7pm"
   ]
  },
  {
   "cell_type": "code",
   "execution_count": null,
   "metadata": {
    "collapsed": true,
    "jupyter": {
     "outputs_hidden": true
    }
   },
   "outputs": [],
   "source": [
    "df.filter(df.hours.friday_close=='1900').count()\n",
    "3305"
   ]
  },
  {
   "cell_type": "markdown",
   "metadata": {},
   "source": [
    "**6. (1 PT) Location and Hours**  \n",
    "\n",
    "Count the number of records where city is Houston and closing time on Friday is 7pm"
   ]
  },
  {
   "cell_type": "code",
   "execution_count": null,
   "metadata": {},
   "outputs": [],
   "source": [
    "df.filter((df.address.city=='Houston') & (df.hours.friday_close=='1900')).count()\n",
    "42"
   ]
  },
  {
   "cell_type": "markdown",
   "metadata": {},
   "source": [
    "**7. (1 PT) Price Range**  \n",
    "\n",
    "Price range is quoted in number of dollar signs.  Count the number of records with price range greater than or equal to three."
   ]
  },
  {
   "cell_type": "code",
   "execution_count": null,
   "metadata": {},
   "outputs": [],
   "source": [
    "df.filter(df.menu.price_range >= 3).count()\n",
    "115"
   ]
  },
  {
   "cell_type": "markdown",
   "metadata": {},
   "source": [
    "**8. (1 PT) COMPANY HEADQUARTERS**  \n",
    "\n",
    "Show the distribution of the `address.is_headquarters` field:  \n",
    "how many locations are HQ / are NOT HQ / are null?"
   ]
  },
  {
   "cell_type": "code",
   "execution_count": null,
   "metadata": {},
   "outputs": [],
   "source": [
    "df.groupBy('address.is_headquarters').count().show()\n",
    "+---------------+-----+\n",
    "|is_headquarters|count|\n",
    "+---------------+-----+\n",
    "|           null|87625|\n",
    "|           true|  318|\n",
    "|          false|66736|\n",
    "+---------------+-----+\n"
   ]
  },
  {
   "cell_type": "markdown",
   "metadata": {},
   "source": [
    "**9. (1 PT) Webpage URLs**  \n",
    "\n",
    "Register the dataframe as a temp table.  \n",
    "Next, use Spark SQL to select the webpage title where the webpage url (accessed under `webpage.url`) is *Target.com*.  \n",
    "\n",
    "Show the first record from your query, using show(1, False) to show the full text from the first record.\n",
    "\n"
   ]
  },
  {
   "cell_type": "code",
   "execution_count": null,
   "metadata": {},
   "outputs": [],
   "source": [
    "df.registerTempTable('dff')\n",
    "df2 = spark.sql('select webpage.title from dff where webpage.url == \"Target.com\"')\n",
    "\n",
    "df2.show(1, False)\n",
    "+-------------------------------+\n",
    "|title                          |\n",
    "+-------------------------------+\n",
    "|Target : Expect More. Pay Less.|\n",
    "+-------------------------------+\n"
   ]
  },
  {
   "cell_type": "markdown",
   "metadata": {},
   "source": [
    "**10. (1 PT) Analysis on Ratings**  \n",
    "\n",
    "The reviews contains information such as the number of stars for each review (the *rating*).  \n",
    "The ratings are stored in an array (`reviews.stars`) for each business location (you should check for yourself). Return the top five most common rating arrays.  For example, an array might look like: \n",
    "[5, 5]\n",
    "\n"
   ]
  },
  {
   "cell_type": "code",
   "execution_count": null,
   "metadata": {},
   "outputs": [],
   "source": [
    "df.groupBy('reviews.stars').count().orderBy('count', ascending=False).show(5)\n",
    "+------+-----+\n",
    "| stars|count|\n",
    "+------+-----+\n",
    "|  null|74679|\n",
    "|    []|42419|\n",
    "|   [5]| 4258|\n",
    "|[null]| 3067|\n",
    "|[5, 5]| 1610|\n",
    "+------+-----+\n"
   ]
  },
  {
   "cell_type": "markdown",
   "metadata": {},
   "source": [
    "**11. More work with Ratings**  \n",
    "\n",
    "For this question, you will filter out null ratings and then compute the average rating for each business location (using the field: `id`).\n",
    "\n",
    "\n",
    "a) (1 PT) Create a new dataframe retaining two fields: `id`, `reviews.stars`\n"
   ]
  },
  {
   "cell_type": "code",
   "execution_count": 26,
   "metadata": {},
   "outputs": [],
   "source": [
    "r = df.select('id', 'reviews.stars')"
   ]
  },
  {
   "cell_type": "markdown",
   "metadata": {},
   "source": [
    "b) (1 PT) Create a row for each rating  \n",
    "hint: use the `withColumn()` and `explode()` functions  \n",
    "you will need to import the `explode()` function by issuing:\n",
    "\n",
    "`from pyspark.sql.functions import explode`\n"
   ]
  },
  {
   "cell_type": "code",
   "execution_count": 28,
   "metadata": {},
   "outputs": [],
   "source": [
    "from pyspark.sql.functions import explode\n",
    "r = r.withColumn('rating', explode('stars'))"
   ]
  },
  {
   "cell_type": "markdown",
   "metadata": {},
   "source": [
    "c) (1 PT) Return a count of the number of ratings in this dataframe"
   ]
  },
  {
   "cell_type": "code",
   "execution_count": 29,
   "metadata": {},
   "outputs": [
    {
     "data": {
      "text/plain": [
       "600082"
      ]
     },
     "execution_count": 29,
     "metadata": {},
     "output_type": "execute_result"
    }
   ],
   "source": [
    "r.count()\n",
    "600082"
   ]
  },
  {
   "cell_type": "code",
   "execution_count": 30,
   "metadata": {},
   "outputs": [
    {
     "name": "stdout",
     "output_type": "stream",
     "text": [
      "+----------------+------+------+\n",
      "|              id| stars|rating|\n",
      "+----------------+------+------+\n",
      "|000136e65d50c3b7|[4, 4]|     4|\n",
      "|000136e65d50c3b7|[4, 4]|     4|\n",
      "|0003b7589a4e12a0|   [5]|     5|\n",
      "|00045f958e4bb02a| [,,,]|  null|\n",
      "|00045f958e4bb02a| [,,,]|  null|\n",
      "+----------------+------+------+\n",
      "only showing top 5 rows\n",
      "\n"
     ]
    }
   ],
   "source": [
    "r.show(5)"
   ]
  },
  {
   "cell_type": "markdown",
   "metadata": {},
   "source": [
    "d) (1 PT) Drop rows where the rating is null, and return a count of the number of non-null ratings"
   ]
  },
  {
   "cell_type": "code",
   "execution_count": null,
   "metadata": {},
   "outputs": [],
   "source": [
    "rf = r.where(r.rating.isNotNull())\n",
    "rf.count()\n",
    "538241"
   ]
  },
  {
   "cell_type": "markdown",
   "metadata": {},
   "source": [
    "e) (1 PT) Compute the average rating, grouped by `id`. After the average is computed, sort by `id` in ascending order and show the top 10 records.  \n",
    " \n",
    "hint:   \n",
    "this can all be done in one line using the `agg()` function  \n",
    "this `id` should be at the top: 000136e65d50c3b7|"
   ]
  },
  {
   "cell_type": "code",
   "execution_count": null,
   "metadata": {},
   "outputs": [],
   "source": [
    "rf.groupBy(\"id\").agg({\"rating\":\"avg\"}).orderBy('id', ascending=True).show(10) \n",
    "\n",
    "+----------------+------------------+\n",
    "|              id|       avg(rating)|\n",
    "+----------------+------------------+\n",
    "|000136e65d50c3b7|               4.0|\n",
    "|0003b7589a4e12a0|               5.0|\n",
    "|00059519f0dba1b4|3.3333333333333335|\n",
    "|000a1df4c8e0ecd2|               4.6|\n",
    "|000c7b7a30623083|               5.0|\n",
    "|000c9ffc8b89af03|               3.0|\n",
    "|000de20baa847ecc|1.6666666666666667|\n",
    "|001064359d9f162f|               5.0|\n",
    "|0010c9f495d87dd7|               3.0|\n",
    "|0017774db5e6400a| 4.333333333333333|\n",
    "+----------------+------------------+"
   ]
  }
 ],
 "metadata": {
  "anaconda-cloud": {},
  "kernelspec": {
   "display_name": "DS 5559",
   "language": "python",
   "name": "ds5559"
  },
  "language_info": {
   "codemirror_mode": {
    "name": "ipython",
    "version": 3
   },
   "file_extension": ".py",
   "mimetype": "text/x-python",
   "name": "python",
   "nbconvert_exporter": "python",
   "pygments_lexer": "ipython3",
   "version": "3.7.6"
  }
 },
 "nbformat": 4,
 "nbformat_minor": 4
}
